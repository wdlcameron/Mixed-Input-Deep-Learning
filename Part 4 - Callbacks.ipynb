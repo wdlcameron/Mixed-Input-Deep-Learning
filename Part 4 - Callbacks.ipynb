{
 "cells": [
  {
   "cell_type": "code",
   "execution_count": 1,
   "metadata": {},
   "outputs": [],
   "source": [
    "%reload_ext autoreload\n",
    "%autoreload 2\n",
    "%matplotlib inline"
   ]
  },
  {
   "cell_type": "code",
   "execution_count": 2,
   "metadata": {},
   "outputs": [],
   "source": [
    "#export\n",
    "import numpy as np\n",
    "import torch\n",
    "import torch.nn as nn\n",
    "import torch.nn.functional as F\n",
    "import pandas as pd\n",
    "from functools import partial\n",
    "from pathlib import Path\n",
    "import torchvision\n",
    "\n",
    "import math\n",
    "import matplotlib.pyplot as plt\n",
    "import re\n",
    "\n",
    "\n",
    "from scripts.dataloader import Dataset, Transforms, Resize, ToTorch, Sampler, collate, DataLoader\n",
    "from scripts.custom_models import Lambda, flatten, MixedInputModel, TabularModel, CNNModel, CustomResnet\n",
    "from scripts.optimizer_and_loss import Optimizer, MSE_Loss, get_example_dataloaders, get_example_model"
   ]
  },
  {
   "cell_type": "markdown",
   "metadata": {},
   "source": [
    "# Step 0 - Imports from previous lessons\n",
    "\n",
    "The main things that we need from the previous lessons are the dattaloaders, the model, the loss function and the optimizer.  We don't need the training function because we will be rewriting it to include callbacks"
   ]
  },
  {
   "cell_type": "code",
   "execution_count": 3,
   "metadata": {},
   "outputs": [],
   "source": [
    "dl_train, dl_valid = get_example_dataloaders()\n",
    "model = get_example_model(dl_train)\n",
    "loss_function = MSE_Loss(reduce = True)\n",
    "opt = Optimizer(model, 0.02)"
   ]
  },
  {
   "cell_type": "markdown",
   "metadata": {},
   "source": [
    "# Step 1 - Introduction to the Callback System\n",
    "\n",
    "A callback is a supporting function, or group of functions, that can be called at various preset points within the code.  This allows the user to customize the functionality of the code without modifying the core components directly.  For instance, after each epoch of training, we may wish to change the learning rate.  This could be achieved with a callback that gets triggered before (or after) every completed epoch of training.  Alternatively, we might also want a callback that can break the training cycle if the validation loss starts to rise (early stopping).  Callbacks may even provide core functionality, such as the ability to use assess custom metrics during validation (e.g. an accuracy score)\n",
    "\n",
    "We can therefore create a list of desired features from our callbacks:\n",
    "- The ability to be called at specific points in the training cycle\n",
    "- The ability to mix and match different types of callbacks\n",
    "- The ability to change core parameters related to training\n",
    "- The ability to store parameters\n",
    "- The ability to stop training\n",
    "- A callback system that is easy to program"
   ]
  },
  {
   "cell_type": "markdown",
   "metadata": {},
   "source": [
    "The easiest way to call callbacks at specific landmarks in the code is to assign each of these landmarks a name.  For instance, we can call the point right after we calculate the loss \"after loss\", or the point right after we end a single batch \"after batch\".  Each of our callbacks should have functions related to these points, but we also don't want to have to program each function for every callback.  This is especially true when you just want the callback to access a single point (e.g. decreasing the learning rate by 10% after every batch).  We can get around this issue by creating a callback class which accepts a string when called (e.g. 'after batch') and only performs the operation if it has that function  "
   ]
  },
  {
   "cell_type": "code",
   "execution_count": 4,
   "metadata": {},
   "outputs": [],
   "source": [
    "#export\n",
    "class Callback():\n",
    "\n",
    "    _order = 0 #This allows you to control the order callbacks are called in\n",
    "    def __init__(self): self.learn = None\n",
    "    def set_learner(self,learn): self.learn = learn\n",
    "    def __getattr__(self, attr): return getattr(self.learn, attr)  #Will look here if it can't find it in the current class\n",
    "    \n",
    "    def __call__(self, callback):\n",
    "        f = getattr(self, callback, None)\n",
    "        if f and f(): return True   #f() won't be called if f is None\n",
    "        else: return False\n",
    "        \n",
    "    @property\n",
    "    def name(self):\n",
    "        name = re.sub(r'Callback$', '', self.__class__.__name__)\n",
    "        return camel2snake(name or 'callback')\n",
    "    \n",
    "    \n",
    "        \n",
    "_camel_re1 = re.compile('(.)([A-Z][a-z]+)')\n",
    "_camel_re2 = re.compile('([a-z0-9])([A-Z])')\n",
    "def camel2snake(name):\n",
    "    s1 = re.sub(_camel_re1, r'\\1_\\2', name)\n",
    "    return re.sub(_camel_re2, r'\\1_\\2', s1).lower()"
   ]
  },
  {
   "cell_type": "markdown",
   "metadata": {},
   "source": [
    "That's all there is too it.  For instance, we can create a simple callback to test out the functionality"
   ]
  },
  {
   "cell_type": "code",
   "execution_count": 5,
   "metadata": {},
   "outputs": [
    {
     "name": "stdout",
     "output_type": "stream",
     "text": [
      "It works\n"
     ]
    },
    {
     "data": {
      "text/plain": [
       "False"
      ]
     },
     "execution_count": 5,
     "metadata": {},
     "output_type": "execute_result"
    }
   ],
   "source": [
    "class TestCallback(Callback):\n",
    "    def example_callback(self):\n",
    "        print (\"It works\")\n",
    "        \n",
    "class TestCallback2(Callback):\n",
    "    def begin_batch(self):\n",
    "        print(\"Starting the batch!\")\n",
    "    \n",
    "    \n",
    "test_callback = TestCallback()\n",
    "#test_callback.set_learner(None)\n",
    "\n",
    "test_callback(\"example_callback\")\n",
    "test_callback(\"unimplemented_callback\")"
   ]
  },
  {
   "cell_type": "markdown",
   "metadata": {},
   "source": [
    "We can see that when the callback has the function it is called, but when it doesn't it returns False.  We will later incorporate the callbacks into a larger \"learn\" class, but just ignore the `set_learner` and `__getattr__ ` for now.\n",
    "\n",
    "We can create a callback manager class to handle all of our callbacks.  Its main purpose will be to go through each of the registered callbacks whenever they're by the the training cycles.  We will accept two forms of callbacks as inputs.  The first is the initalized callback instances (e.g. test_callback from above).  The other is the uninitialized class (e.g. TestCallback), which must be called by the callback mananger to be initialized"
   ]
  },
  {
   "cell_type": "code",
   "execution_count": 6,
   "metadata": {},
   "outputs": [],
   "source": [
    "class CallbackMananger():\n",
    "    def __init__(self, callbacks, callback_functions):\n",
    "        self.callbacks = []\n",
    "        self.add_callbacks(callbacks)\n",
    "        self.add_callbacks([cbf() for cbf in callback_functions])\n",
    "        \n",
    "    def add_callbacks(self, cbs):\n",
    "        for cb in cbs: \n",
    "            cb.set_learner(None)\n",
    "            self.callbacks.append(cb)\n",
    "            \n",
    "    def __call__(self, callback_name):\n",
    "        result = False\n",
    "        for cb in sorted(self.callbacks, key = lambda x: x._order): result = cb(callback_name) and result\n",
    "        return result\n",
    "        "
   ]
  },
  {
   "cell_type": "code",
   "execution_count": 7,
   "metadata": {},
   "outputs": [],
   "source": [
    "cbm = CallbackMananger(callbacks = [TestCallback()], \n",
    "                       callback_functions = [TestCallback2])"
   ]
  },
  {
   "cell_type": "markdown",
   "metadata": {},
   "source": [
    "Let's create a simplified version of our training cycle.  Note, we'll be able to clean up aspects like move_data_to_GPU in just a bit"
   ]
  },
  {
   "cell_type": "code",
   "execution_count": 8,
   "metadata": {},
   "outputs": [],
   "source": [
    "def move_data_to_GPU(xb, yb):\n",
    "    xb = tuple(map(lambda x: x.cuda(), xb))\n",
    "    yb = yb.cuda()\n",
    "    return xb, yb\n",
    "\n",
    "model.cuda()\n",
    "training = True\n",
    "\n",
    "xb, yb = next(iter(dl_train))\n",
    "xb, yb = move_data_to_GPU(xb, yb)\n",
    "def one_batch(xb, yb):\n",
    "    cbm('begin_batch')\n",
    "    preds = model(xb)\n",
    "    cbm('after_pred')\n",
    "    loss = loss_function(preds, yb)\n",
    "    cbm('after_loss')\n",
    "    if training:\n",
    "        loss.backward()\n",
    "        cbm('after_loss')\n",
    "        opt.step()\n",
    "        cbm('after_step')\n",
    "        opt.zero_grad()\n",
    "        cbm('after_batch')\n"
   ]
  },
  {
   "cell_type": "code",
   "execution_count": 9,
   "metadata": {},
   "outputs": [
    {
     "name": "stdout",
     "output_type": "stream",
     "text": [
      "Starting the batch!\n"
     ]
    }
   ],
   "source": [
    "one_batch(xb, yb)"
   ]
  },
  {
   "cell_type": "markdown",
   "metadata": {},
   "source": [
    "The next feature we want to add in is the ability to cancel the batch early.  We can do this using exceptions.  Let's add a callback that stops the batch after the loss"
   ]
  },
  {
   "cell_type": "code",
   "execution_count": 10,
   "metadata": {},
   "outputs": [],
   "source": [
    "class StopAfterLoss(Callback):\n",
    "    def __init__(self):\n",
    "        self.temp_variable = None #To show that callbacks can store variables or be initialized\n",
    "        \n",
    "    def after_loss(self):\n",
    "        print('About to cancel the batch')\n",
    "        raise CancelBatchException(\"Cancelling the training cycle\")\n",
    "        \n",
    "    def after_cancel_batch(self):\n",
    "        print('Cancelled the batch!')\n",
    "        \n",
    "        \n",
    "class CancelBatchException(Exception): pass"
   ]
  },
  {
   "cell_type": "code",
   "execution_count": 11,
   "metadata": {},
   "outputs": [],
   "source": [
    "def one_batch(xb, yb):\n",
    "    try:\n",
    "        cbm('begin_batch')\n",
    "        preds = model(xb);                 cbm('after_pred')\n",
    "        loss = loss_function(preds, yb);   cbm('after_loss')\n",
    "        if training:\n",
    "            loss.backward();               cbm('after_loss')\n",
    "            opt.step();                    cbm('after_step')\n",
    "            opt.zero_grad()\n",
    "            \n",
    "    except CancelBatchException:           cbm('after_cancel_batch')\n",
    "        \n",
    "    finally: cbm('after_batch')"
   ]
  },
  {
   "cell_type": "code",
   "execution_count": 12,
   "metadata": {},
   "outputs": [
    {
     "name": "stdout",
     "output_type": "stream",
     "text": [
      "Starting the batch!\n",
      "About to cancel the batch\n",
      "Cancelled the batch!\n"
     ]
    }
   ],
   "source": [
    "cbm = CallbackMananger(callbacks = [TestCallback()], \n",
    "                       callback_functions = [TestCallback2, StopAfterLoss])\n",
    "\n",
    "one_batch(xb, yb)"
   ]
  },
  {
   "cell_type": "markdown",
   "metadata": {},
   "source": [
    "# Step 2 - The Learner Class\n",
    "\n",
    "This is all we need for the foundations of a callback system.  We've addressed all of the requirements except for the ability to change core parameters associated with training.  For that, we want a larger structure than the callback mananger.  One that completely controls the entire training process.  To that end, we will create a Learner class, which will do double duty as the callback manager.  We will also create a `DataBlock` class that will contain our dataloaders (rather than have multiple possibilities in terms of the training, validation, and test sets)"
   ]
  },
  {
   "cell_type": "code",
   "execution_count": 13,
   "metadata": {},
   "outputs": [],
   "source": [
    "#export\n",
    "class Datablock():\n",
    "    def __init__(self, train_dl, valid_dl = None, test_dl = None):\n",
    "        self.train_dl, self.valid_dl, self.test_dl = train_dl, valid_dl, test_dl\n",
    "        \n",
    "\n",
    "\n",
    "class PreLearner():\n",
    "    def __init__(self, model, data, loss_func, opt, cbs, cbfs):\n",
    "        self.model = model\n",
    "        self.loss_func = loss_func\n",
    "        self.opt = opt\n",
    "        self.data = data\n",
    "        \n",
    "        self.callbacks = []\n",
    "        self.add_callbacks(callbacks)\n",
    "        self.add_callbacks([cbf() for cbf in callback_functions])\n",
    "        \n",
    "    def add_callbacks(self, cbs):\n",
    "        for cb in cbs: \n",
    "            cb.set_learner(self)\n",
    "            self.callbacks.append(cb)\n",
    "            \n",
    "    def one_batch(self, xb, yb):\n",
    "        try:\n",
    "            self.xb, self.yb = xb, yb;                          self('begin_batch')\n",
    "            self.preds = self.model(self.xb);                   self('after_pred')\n",
    "            self.loss = self.loss_func(self.preds, self.yb);    self('after_loss')\n",
    "            if training:\n",
    "                self.loss.backward();                           self('after_loss')\n",
    "                self.opt.step();                                self('after_step')\n",
    "                self.opt.zero_grad()\n",
    "\n",
    "        except CancelBatchException:                            self('after_cancel_batch')\n",
    "\n",
    "        finally:                                                self('after_batch')\n",
    "            \n",
    "            \n",
    "    def __call__(self, callback_name):\n",
    "        result = False\n",
    "        for cb in sorted(self.callbacks, key = lambda x: x._order): result = cb(callback_name) and result\n",
    "        return result\n",
    "        "
   ]
  },
  {
   "cell_type": "markdown",
   "metadata": {},
   "source": [
    "Let's test out the ability to access and write data to the learner using a new callback:"
   ]
  },
  {
   "cell_type": "code",
   "execution_count": 14,
   "metadata": {},
   "outputs": [],
   "source": [
    "class PredictionDoubler(Callback):\n",
    "    def after_pred(self):\n",
    "        pred = self.preds #This will call the __getattr__ class method when it doesn't find self.pred\n",
    "        self.learn.test_output = \"If you see this, we've set a value to the learner\""
   ]
  },
  {
   "cell_type": "code",
   "execution_count": 15,
   "metadata": {},
   "outputs": [],
   "source": [
    "data = Datablock(dl_train, dl_valid)\n",
    "callbacks = [TestCallback()]\n",
    "callback_functions = [TestCallback2, StopAfterLoss, PredictionDoubler]\n",
    "learn = PreLearner(model = model, \n",
    "                data = data, \n",
    "                loss_func = loss_function, \n",
    "                opt = opt, cbs = callbacks, cbfs = callback_functions)"
   ]
  },
  {
   "cell_type": "code",
   "execution_count": 16,
   "metadata": {},
   "outputs": [
    {
     "name": "stdout",
     "output_type": "stream",
     "text": [
      "Starting the batch!\n",
      "About to cancel the batch\n",
      "Cancelled the batch!\n",
      "If you see this, we've set a value to the learner\n"
     ]
    }
   ],
   "source": [
    "learn.one_batch(xb,yb)\n",
    "\n",
    "print(learn.test_output)"
   ]
  },
  {
   "cell_type": "markdown",
   "metadata": {},
   "source": [
    "We now have something that is working and fulfils all of the requirements.  There is more to the training cycle than the ability to perform one batch.  Similarly, we can start to push some of the features to the callbacks themselves (e.g. moving the data to the GPU).  The main things that we need to add to our final learner are:\n",
    "- The ability to switch between training and validation mode\n",
    "- The ability to iterate through an entire epoch\n",
    "- The ability to iterate over multiple epochs\n",
    "- The ability to check that any callbacks are in the defined list\n",
    "\n",
    "In terms of callbacks, we want to add the following features:\n",
    "- The ability to move the batch data to the GPU\n",
    "- The ability to keep track of the loss over time\n",
    "- The ability to add another validation metric\n",
    "- The ability to stop the training after 3 batches and 2 epochs (so that we can test more easily)"
   ]
  },
  {
   "cell_type": "code",
   "execution_count": 17,
   "metadata": {},
   "outputs": [],
   "source": [
    "#export\n",
    "class Learner():\n",
    "    def __init__(self, model, data, loss_func, opt, cbs, cbfs):\n",
    "        self.model = model\n",
    "        self.loss_func = loss_func\n",
    "        self.opt = opt\n",
    "        self.data = data\n",
    "        \n",
    "        self.callbacks = []\n",
    "        self.add_callbacks([TrainEvalCallback()] + cbs)\n",
    "        self.add_callbacks([cbf() for cbf in cbfs])\n",
    "        \n",
    "    def add_callbacks(self, cbs):\n",
    "        for cb in cbs: \n",
    "            cb.set_learner(self)\n",
    "            setattr(self, cb.name, cb)\n",
    "            self.callbacks.append(cb)\n",
    "          \n",
    "    def fit(self, num_epochs):\n",
    "        self.num_epochs = num_epochs\n",
    "        try: \n",
    "            self.loss = torch.tensor(0.);                       self('begin_fit')\n",
    "            for epoch in range(num_epochs):\n",
    "                self.epoch = epoch\n",
    "                if not self('begin_epoch'): #Will return False unless you want to skip the epoch\n",
    "                    #train cycle\n",
    "                    #self.in_train = True\n",
    "                    #self.model.train()\n",
    "                    self.dl = self.data.train_dl\n",
    "                    self.all_batches()\n",
    "                \n",
    "                    #valid cycle\n",
    "                    if not self('begin_validate'):  #Will return False unless you want to skip validation\n",
    "                        #self.in_train = False\n",
    "                        #self.model.eval()\n",
    "                        self.dl = self.data.valid_dl\n",
    "                        with torch.no_grad(): self.all_batches() # May have to move torch no grad up\n",
    "                self('after_epoch')\n",
    "            \n",
    "        except CancelTrainException:                            self('after_cancel_train')\n",
    "        finally:                                                self('after_fit')\n",
    "        \n",
    "    def all_batches(self):\n",
    "        try:\n",
    "            for i, (xb, yb) in enumerate(self.dl):\n",
    "                self.one_batch(i, xb, yb)\n",
    "        except CancelEpochException: self('after_cancel_epoch')\n",
    "\n",
    "    def one_batch(self, i, xb, yb):\n",
    "        try:\n",
    "            self.iter = i\n",
    "            self.xb, self.yb = xb, yb;                          self('begin_batch')\n",
    "            self.preds = self.model(self.xb);                   self('after_pred')\n",
    "            self.loss = self.loss_func(self.preds, self.yb);    self('after_loss')\n",
    "            if self.in_train:\n",
    "                self.loss.backward();                           self('after_loss')\n",
    "                self.opt.step();                                self('after_step')\n",
    "                self.opt.zero_grad()\n",
    "\n",
    "        except CancelBatchException:                            self('after_cancel_batch')\n",
    "\n",
    "        finally:                                                self('after_batch')\n",
    "           \n",
    "    ALL_CALLBACKS = {'begin_batch', 'after_pred', 'after_loss', 'after_backward', 'after_step',\n",
    "        'after_cancel_batch', 'after_batch', 'after_cancel_epoch', 'begin_fit',\n",
    "        'begin_epoch', 'begin_validate', 'after_epoch',\n",
    "        'after_cancel_train', 'after_fit'}\n",
    "        \n",
    "    def __call__(self, callback_name):\n",
    "        result = False\n",
    "        assert callback_name in self.ALL_CALLBACKS\n",
    "        for cb in sorted(self.callbacks, key = lambda x: x._order): result = cb(callback_name) and result\n",
    "        return result\n",
    "        \n",
    "\n",
    "        \n",
    "        \n",
    "class TrainEvalCallback(Callback):\n",
    "    def begin_fit(self):\n",
    "        self.learn.n_epochs = 0\n",
    "        self.learn.n_iter = 0\n",
    "        \n",
    "    def begin_epoch(self):\n",
    "        self.learn.n_epochs = self.epoch\n",
    "        self.model.train()\n",
    "        self.learn.in_train = True\n",
    "        \n",
    "    def begin_validate(self):\n",
    "        self.model.eval()\n",
    "        self.learn.in_train = False\n",
    "        \n",
    "        \n",
    "        \n",
    "        \n",
    "class CancelTrainException(Exception): pass\n",
    "class CancelEpochException(Exception): pass\n",
    "class CancelBatchException(Exception): pass\n",
    "\n",
    "\n"
   ]
  },
  {
   "cell_type": "code",
   "execution_count": 18,
   "metadata": {},
   "outputs": [],
   "source": [
    "#export\n",
    "class MoveBatchGPUCallback(Callback):\n",
    "    _order = 100 #We want this to be done last, potentially (some operations may be requied before or after it)\n",
    "    def begin_batch(self):\n",
    "        self.learn.yb = self.yb.cuda()\n",
    "        self.learn.xb = tuple(map(lambda x: x.cuda(), xb))\n",
    "    def begin_fit(self):\n",
    "        self.model.cuda()\n",
    "        \n",
    "class EarlyStoppingCallback(Callback):\n",
    "    def __init__(self, max_epochs, max_batches):\n",
    "        self.max_epochs = max_epochs\n",
    "        self.max_batches = max_batches\n",
    "    def after_epoch(self):\n",
    "        if self.epoch >= self.max_epochs: raise CancelTrainException()  \n",
    "    def after_batch(self):\n",
    "        if self.iter >= self.max_batches: raise CancelEpochException()\n",
    "            \n",
    "class OutputStepsCallback(Callback):\n",
    "    def begin_batch(self): print(f\"   Batch {self.iter}\")\n",
    "    def begin_epoch(self): print(F\"Epoch {self.epoch}\", \"\\nBeginning the Training\")\n",
    "    def begin_validate(self): print(\"Beginning the validation\")\n",
    "    \n",
    "class SqueezePredsCallback(Callback):\n",
    "    def after_pred(self):\n",
    "        self.learn.preds = torch.squeeze(self.learn.preds, -1)"
   ]
  },
  {
   "cell_type": "code",
   "execution_count": 19,
   "metadata": {},
   "outputs": [],
   "source": [
    "data = Datablock(dl_train, dl_valid)\n",
    "callbacks = [OutputStepsCallback(), EarlyStoppingCallback(2, 3)]\n",
    "callback_functions = [MoveBatchGPUCallback, SqueezePredsCallback]\n",
    "learn = Learner(model = model, \n",
    "                data = data, \n",
    "                loss_func = loss_function, \n",
    "                opt = opt, cbs = callbacks, cbfs = callback_functions)"
   ]
  },
  {
   "cell_type": "code",
   "execution_count": 20,
   "metadata": {},
   "outputs": [
    {
     "name": "stdout",
     "output_type": "stream",
     "text": [
      "Epoch 0 \n",
      "Beginning the Training\n",
      "   Batch 0\n",
      "   Batch 1\n",
      "   Batch 2\n",
      "   Batch 3\n",
      "Beginning the validation\n",
      "   Batch 0\n",
      "   Batch 1\n",
      "   Batch 2\n",
      "   Batch 3\n",
      "Epoch 1 \n",
      "Beginning the Training\n",
      "   Batch 0\n",
      "   Batch 1\n",
      "   Batch 2\n",
      "   Batch 3\n",
      "Beginning the validation\n",
      "   Batch 0\n",
      "   Batch 1\n",
      "   Batch 2\n",
      "   Batch 3\n",
      "Epoch 2 \n",
      "Beginning the Training\n",
      "   Batch 0\n",
      "   Batch 1\n",
      "   Batch 2\n",
      "   Batch 3\n",
      "Beginning the validation\n",
      "   Batch 0\n",
      "   Batch 1\n",
      "   Batch 2\n",
      "   Batch 3\n"
     ]
    }
   ],
   "source": [
    "learn.fit(20)"
   ]
  },
  {
   "cell_type": "markdown",
   "metadata": {},
   "source": [
    "We've shown some simple callbacks that handle basic actions, such as early stopping and outputting the current steps so that we can track progress during training.  The good thing about using callbacks to perform these tasks is that we can easily mix and match at runtime.  It also increases the flexibility of the system.  For instance, we need a vey specific unpacking and repacking process when moving the xb to the GPU, which is made simple by having this behaviour in its own callback.  There are other steps that could have been pushed to a callback as well, such as identifying the `model.eval()` and `model.train()` steps.  What you choose to push to callbacks and what you choose to incorporate into the code is up to you."
   ]
  },
  {
   "cell_type": "markdown",
   "metadata": {},
   "source": [
    "# Step 3 - More Sophisticated Callbacks\n",
    "\n",
    "In addition to the simple callbacks we saw in the previous section, we can also look at more complex callbacks that interact with our learner in more complicated ways.  We will go over two of the most critical ones here:\n",
    "- The ability to track loss and other specific metrics\n",
    "- The ability to schedule specific parameters like the learning rate"
   ]
  },
  {
   "cell_type": "markdown",
   "metadata": {},
   "source": [
    "## Stats and Metrics\n",
    "\n",
    "The ability to track specific stats is a very useful tool when training your models.  Although the loss function is what the system uses for training the parameters, a metric such as accuracy may provide a more tangible representation of the performance of the model.  Alternatively, you may wish to extract very specific information that is not easily parsed from a single loss value.  For instance, you may want to separate the predictions based on each class and give a summary of each.  This is easily calculated using the preds and yb components stored in the learner.\n",
    "\n",
    "To calculate stats, we will create a new 'AvgStats' class that will accumulate the metrics of interest across all the batches of an epoch and then append them to a amoving tally.  This class should have some key functionalities, including:\n",
    "- The ability to reset the statistics easily\n",
    "- The ability to average in batches of varying sizes (since the last batch sometimes has fewer elements - not a huge deal)\n",
    "- The ability to accept a list of custom \"metric functions\"\n",
    "\n",
    "To keep things simple, each metric will take two inputs: the predictions (output) and the yb (target).  This way, we can just call metric(self.preds, self.yb) to calculate the output of each metric\n"
   ]
  },
  {
   "cell_type": "code",
   "execution_count": 21,
   "metadata": {},
   "outputs": [],
   "source": [
    "#export\n",
    "class AvgStats():\n",
    "    def __init__(self, metrics, in_train):\n",
    "        self.metrics, self.in_train = metrics, in_train\n",
    "        self.reset_stats()\n",
    "        \n",
    "    def reset_stats(self):\n",
    "        self.tot_loss, self.count = 0., 0\n",
    "        self.tot_metrics = [0.]*len(self.metrics)\n",
    "        \n",
    "    @property\n",
    "    def all_stats(self): return [self.tot_loss.item()] + self.tot_metrics\n",
    "    \n",
    "    @property\n",
    "    def avg_stats(self): return [o/self.count for o in self.all_stats]\n",
    "        \n",
    "    def accumulate(self, learn):\n",
    "        batch_size = learn.preds.shape[0]\n",
    "        self.tot_loss += learn.loss * batch_size\n",
    "        self.count += batch_size\n",
    "        for i, m in enumerate(self.metrics):\n",
    "            self.tot_metrics[i] += m(learn.preds, learn.yb)*batch_size\n",
    "        \n",
    "    \n",
    "    def __repr__(self):\n",
    "        if not self.count: return \"\"\n",
    "        return f\"{'train' if self.in_train else 'valid'}: {self.avg_stats}\"\n",
    "    \n",
    "    \n",
    "class AvgStatsCallback(Callback):\n",
    "    def __init__(self, train_metrics, valid_metrics):\n",
    "        self.train_stats, self.valid_stats = AvgStats(train_metrics, True), AvgStats(valid_metrics, False)\n",
    "        \n",
    "    def begin_fit(self):\n",
    "        self.train_stats.reset_stats()\n",
    "        self.valid_stats.reset_stats()\n",
    "        \n",
    "    def after_batch(self):\n",
    "        current_stats = self.train_stats if self.in_train else self.valid_stats\n",
    "        with torch.no_grad(): current_stats.accumulate(self.learn)\n",
    "            \n",
    "    def after_epoch(self):\n",
    "        print(self.train_stats)\n",
    "        print(self.valid_stats)\n",
    "        "
   ]
  },
  {
   "cell_type": "code",
   "execution_count": 22,
   "metadata": {},
   "outputs": [
    {
     "name": "stdout",
     "output_type": "stream",
     "text": [
      "train: [nan]\n",
      "valid: [nan]\n",
      "train: [nan]\n",
      "valid: [nan]\n"
     ]
    }
   ],
   "source": [
    "data = Datablock(dl_train, dl_valid)\n",
    "metrics = []\n",
    "\n",
    "\n",
    "callbacks = [#OutputStepsCallback(), \n",
    "             EarlyStoppingCallback(2, 3), \n",
    "             AvgStatsCallback(metrics, metrics)]\n",
    "callback_functions = [MoveBatchGPUCallback]\n",
    "learn = Learner(model = model, \n",
    "                data = data, \n",
    "                loss_func = loss_function, \n",
    "                opt = opt, cbs = callbacks, cbfs = callback_functions)\n",
    "\n",
    "learn.fit(20)"
   ]
  },
  {
   "cell_type": "markdown",
   "metadata": {},
   "source": [
    "Now that we have the base for our statistics, lets add some random metrics to show some examples of what is possible:"
   ]
  },
  {
   "cell_type": "code",
   "execution_count": 23,
   "metadata": {},
   "outputs": [
    {
     "name": "stdout",
     "output_type": "stream",
     "text": [
      "0.0625\n",
      "0.053211890161037445\n",
      "1.6072728633880615\n"
     ]
    }
   ],
   "source": [
    "def percent_close(output, target, tolerance = 0.1):\n",
    "    within_tolerance = (abs(output-target))<tolerance\n",
    "    return (within_tolerance*1.).mean().item()\n",
    "\n",
    "def msle(output, target):\n",
    "    logs = torch.log(output+1) - torch.log(target+1)\n",
    "    return (logs**2).mean().item()\n",
    "\n",
    "def mean_pred(output, target):\n",
    "    return output.mean().item()\n",
    "\n",
    "#random function\n",
    "\n",
    "\n",
    "preds, yb = learn.preds, learn.yb\n",
    "preds = yb+torch.rand(yb.shape).cuda() #simulate another preds function\n",
    "\n",
    "for func in [percent_close, msle, mean_pred]:\n",
    "    print(func(preds, yb))"
   ]
  },
  {
   "cell_type": "code",
   "execution_count": 24,
   "metadata": {},
   "outputs": [
    {
     "name": "stdout",
     "output_type": "stream",
     "text": [
      "train: [nan, 0.0, nan, nan]\n",
      "valid: [nan, 0.0, nan, nan]\n",
      "train: [nan, 0.0, nan, nan]\n",
      "valid: [nan, 0.0, nan, nan]\n"
     ]
    }
   ],
   "source": [
    "data = Datablock(dl_train, dl_valid)\n",
    "metrics = [percent_close, msle, mean_pred]\n",
    "\n",
    "\n",
    "callbacks = [#OutputStepsCallback(), \n",
    "             EarlyStoppingCallback(2, 3), \n",
    "             AvgStatsCallback(metrics, metrics)]\n",
    "callback_functions = [MoveBatchGPUCallback]\n",
    "learn = Learner(model = model, \n",
    "                data = data, \n",
    "                loss_func = loss_function, \n",
    "                opt = opt, cbs = callbacks, cbfs = callback_functions)\n",
    "\n",
    "learn.fit(20)"
   ]
  },
  {
   "cell_type": "markdown",
   "metadata": {},
   "source": [
    "## Parameter Scheduler\n",
    "\n",
    "Another useful callback is the parameter scheduler, which allows us to modify specific parameters throughout the training process.  For instance, it is common to gradually decrease the learning rate as training progresses, allowing you to hone in on a local minimum.  Before we get started on the callback, we need a method of accepting an input (pos, or fraction of the training) and outputing our parameter"
   ]
  },
  {
   "cell_type": "code",
   "execution_count": 25,
   "metadata": {},
   "outputs": [],
   "source": [
    "#export\n",
    "def annealer(f):\n",
    "    def _inner(start, stop):\n",
    "        return partial(f, start, stop)\n",
    "    return _inner\n",
    "\n",
    "@annealer\n",
    "def sched_lin(start, stop, pos): return start + (stop-start)*pos\n",
    "@annealer\n",
    "def sched_cos(start, stop, pos): return start + (1 + math.cos(math.pi*(1-pos))) * (stop-start) / 2\n",
    "@annealer\n",
    "def sched_none(start, stop, pos): return start\n",
    "@annealer\n",
    "def sched_exp(start, stop, pos): return (start)*(stop/start)**pos"
   ]
  },
  {
   "cell_type": "markdown",
   "metadata": {},
   "source": [
    "If we look at the cosine scheduler with a start of 2 and an end of 0.4,  we can see that our scheduler behaves as intended"
   ]
  },
  {
   "cell_type": "code",
   "execution_count": 26,
   "metadata": {},
   "outputs": [
    {
     "data": {
      "text/plain": [
       "[<matplotlib.lines.Line2D at 0x206f735d248>]"
      ]
     },
     "execution_count": 26,
     "metadata": {},
     "output_type": "execute_result"
    },
    {
     "data": {
      "image/png": "[encoded data removed]",
      "text/plain": [
       "<Figure size 432x288 with 1 Axes>"
      ]
     },
     "metadata": {
      "needs_background": "light"
     },
     "output_type": "display_data"
    }
   ],
   "source": [
    "x = np.linspace(0, 1, 100)\n",
    "f = sched_cos(2, 0.4)\n",
    "y = [f(x) for x in x]\n",
    "\n",
    "plt.plot(x, y)"
   ]
  },
  {
   "cell_type": "markdown",
   "metadata": {},
   "source": [
    "We can also combine different schedulers to make new ones"
   ]
  },
  {
   "cell_type": "code",
   "execution_count": 27,
   "metadata": {},
   "outputs": [],
   "source": [
    "#export\n",
    "def sched_combiner(pcts, scheds):\n",
    "    assert sum(pcts) == 1\n",
    "    pcts = torch.tensor([0.] + pcts)\n",
    "    pcts_cum = torch.cumsum(pcts, 0)\n",
    "    def _inner(pos):\n",
    "        if pos>=1: pos = 0.99999 #Error on the unlikely chance it hits 1.0 exactly\n",
    "        idx = (pos>=pcts_cum).nonzero().max()\n",
    "        new_pos = (pos - pcts_cum[idx])/(pcts_cum[idx+1] - pcts_cum[idx])\n",
    "        return scheds[idx](new_pos)\n",
    "    return _inner\n",
    "        "
   ]
  },
  {
   "cell_type": "code",
   "execution_count": 28,
   "metadata": {},
   "outputs": [
    {
     "data": {
      "text/plain": [
       "[<matplotlib.lines.Line2D at 0x206f7319a88>]"
      ]
     },
     "execution_count": 28,
     "metadata": {},
     "output_type": "execute_result"
    },
    {
     "data": {
      "image/png": "[encoded data removed]",
      "text/plain": [
       "<Figure size 432x288 with 1 Axes>"
      ]
     },
     "metadata": {
      "needs_background": "light"
     },
     "output_type": "display_data"
    }
   ],
   "source": [
    "pcts = [0.5, 0.5]\n",
    "scheds = [sched_cos(0.4, 2), sched_cos(2, 0.4)]\n",
    "sched_new = sched_combiner(pcts, scheds)\n",
    "\n",
    "\n",
    "x = np.linspace(0., 1., 100)\n",
    "f = sched_new\n",
    "y = [f(x) for x in x]\n",
    "plt.plot(x, y)"
   ]
  },
  {
   "cell_type": "markdown",
   "metadata": {},
   "source": [
    "The last step is to create a callback that will be able to change our parameter of choice according to the progress through the epoch"
   ]
  },
  {
   "cell_type": "code",
   "execution_count": 29,
   "metadata": {},
   "outputs": [],
   "source": [
    "#export\n",
    "class ParamSchedulerCallback(Callback):\n",
    "    _order = 1\n",
    "    def __init__(self, pname, scheduler):\n",
    "        self.pname, self.scheduler = pname, scheduler\n",
    "        \n",
    "    def begin_fit(self):\n",
    "        setattr(self.opt, self.pname, self.scheduler(0.))\n",
    "        \n",
    "    def begin_batch(self):\n",
    "        pos = self.epoch/self.num_epochs\n",
    "        if hasattr(self.learn, 'n_batches'): #if you've included a way to measure the dataset length\n",
    "            pos += self.iter/self.learn.n_batches/self.num_epochs\n",
    "        setattr(self.opt, self.pname, self.scheduler(pos))\n",
    "           \n",
    "class BatchNumberCalculator(Callback):\n",
    "    def begin_fit(self):\n",
    "        ds_len = self.learn.data.train_dl.sampler.n\n",
    "        bs = self.learn.data.train_dl.sampler.bs\n",
    "        self.learn.n_batches = ds_len//bs\n",
    "        \n",
    "        "
   ]
  },
  {
   "cell_type": "code",
   "execution_count": 30,
   "metadata": {},
   "outputs": [
    {
     "name": "stdout",
     "output_type": "stream",
     "text": [
      "train: [nan, 0.0, nan, nan]\n",
      "valid: [nan, 0.0, nan, nan]\n",
      "train: [nan, 0.0, nan, nan]\n",
      "valid: [nan, 0.0, nan, nan]\n"
     ]
    }
   ],
   "source": [
    "data = Datablock(dl_train, dl_valid)\n",
    "metrics = [percent_close, msle, mean_pred]\n",
    "\n",
    "\n",
    "callbacks = [ParamSchedulerCallback('lr', sched_new), \n",
    "             EarlyStoppingCallback(2, 3), \n",
    "             AvgStatsCallback(metrics, metrics)]\n",
    "callback_functions = [MoveBatchGPUCallback, BatchNumberCalculator]\n",
    "learn = Learner(model = model, \n",
    "                data = data, \n",
    "                loss_func = loss_function, \n",
    "                opt = opt, cbs = callbacks, cbfs = callback_functions)\n",
    "\n",
    "learn.fit(20)"
   ]
  },
  {
   "cell_type": "markdown",
   "metadata": {},
   "source": [
    "In theory, we now have a method of changing parameters like the learning rate on the fly.  Let's create an easy way of testing this through a new callback: the Recorder"
   ]
  },
  {
   "cell_type": "markdown",
   "metadata": {},
   "source": [
    "## Recorder\n",
    "\n",
    "We can also give callbacks class methods that are useful beyond what they do in the actual training cycle.  For instance, we can build a recorder class to track the loss and learning rates over time"
   ]
  },
  {
   "cell_type": "code",
   "execution_count": 31,
   "metadata": {},
   "outputs": [],
   "source": [
    "#export\n",
    "class RecorderCallback(Callback):\n",
    "    def begin_fit(self):\n",
    "        self.losses = [[],[]]\n",
    "        self.lrs = [[],[]]\n",
    "        \n",
    "    def after_loss(self):\n",
    "        train_valid_selector = 0 if self.in_train else 1\n",
    "        self.losses[train_valid_selector].append(self.loss)\n",
    "        self.lrs[train_valid_selector].append(self.opt.lr)\n",
    "    def plot_lrs(self, train = True):\n",
    "        train_valid_selector = 0 if train else 1\n",
    "        plt.plot(self.lrs[train_valid_selector])\n",
    "        \n",
    "    def plot_losses(self, train = True):\n",
    "        plt.plot(self.losses[train_valid_selector])"
   ]
  },
  {
   "cell_type": "markdown",
   "metadata": {},
   "source": [
    "To test the recorder callback, we'll make a few changes to our early stopper and call to .fit so that we train for 10 epochs, and do the first two batches of each"
   ]
  },
  {
   "cell_type": "code",
   "execution_count": 32,
   "metadata": {},
   "outputs": [
    {
     "name": "stdout",
     "output_type": "stream",
     "text": [
      "train: [nan, 0.0, nan, nan]\n",
      "valid: [nan, 0.0, nan, nan]\n",
      "train: [nan, 0.0, nan, nan]\n",
      "valid: [nan, 0.0, nan, nan]\n",
      "train: [nan, 0.0, nan, nan]\n",
      "valid: [nan, 0.0, nan, nan]\n",
      "train: [nan, 0.0, nan, nan]\n",
      "valid: [nan, 0.0, nan, nan]\n",
      "train: [nan, 0.0, nan, nan]\n",
      "valid: [nan, 0.0, nan, nan]\n",
      "train: [nan, 0.0, nan, nan]\n",
      "valid: [nan, 0.0, nan, nan]\n",
      "train: [nan, 0.0, nan, nan]\n",
      "valid: [nan, 0.0, nan, nan]\n",
      "train: [nan, 0.0, nan, nan]\n",
      "valid: [nan, 0.0, nan, nan]\n",
      "train: [nan, 0.0, nan, nan]\n",
      "valid: [nan, 0.0, nan, nan]\n",
      "train: [nan, 0.0, nan, nan]\n",
      "valid: [nan, 0.0, nan, nan]\n"
     ]
    }
   ],
   "source": [
    "data = Datablock(dl_train, dl_valid)\n",
    "metrics = [percent_close, msle, mean_pred]\n",
    "\n",
    "\n",
    "callbacks = [ParamSchedulerCallback('lr', sched_new), \n",
    "             EarlyStoppingCallback(10, 1), \n",
    "             AvgStatsCallback(metrics, metrics)]\n",
    "callback_functions = [MoveBatchGPUCallback, BatchNumberCalculator, RecorderCallback]\n",
    "learn = Learner(model = model, \n",
    "                data = data, \n",
    "                loss_func = loss_function, \n",
    "                opt = opt, cbs = callbacks, cbfs = callback_functions)\n",
    "\n",
    "learn.fit(10)"
   ]
  },
  {
   "cell_type": "code",
   "execution_count": 33,
   "metadata": {},
   "outputs": [
    {
     "data": {
      "image/png": "[encoded data removed]",
      "text/plain": [
       "<Figure size 432x288 with 1 Axes>"
      ]
     },
     "metadata": {
      "needs_background": "light"
     },
     "output_type": "display_data"
    }
   ],
   "source": [
    "learn.recorder.plot_lrs()"
   ]
  },
  {
   "cell_type": "markdown",
   "metadata": {},
   "source": [
    "As we can see, it's a bit blocky but has the general shape of our scheduler.  Had we trained will all the batches, the values in between would likely have smoothed out the curve"
   ]
  },
  {
   "cell_type": "markdown",
   "metadata": {},
   "source": [
    "# Final Notes"
   ]
  },
  {
   "cell_type": "code",
   "execution_count": 34,
   "metadata": {},
   "outputs": [
    {
     "name": "stdout",
     "output_type": "stream",
     "text": [
      "Converted Part 4 - Callbacks.ipynb to scripts\\callbacks.py\n"
     ]
    }
   ],
   "source": [
    "!python scripts/notebook2script.py \"Part 4 - Callbacks.ipynb\" 'callbacks.py'"
   ]
  },
  {
   "cell_type": "code",
   "execution_count": null,
   "metadata": {},
   "outputs": [],
   "source": []
  }
 ],
 "metadata": {
  "kernelspec": {
   "display_name": "Python 3",
   "language": "python",
   "name": "python3"
  },
  "language_info": {
   "codemirror_mode": {
    "name": "ipython",
    "version": 3
   },
   "file_extension": ".py",
   "mimetype": "text/x-python",
   "name": "python",
   "nbconvert_exporter": "python",
   "pygments_lexer": "ipython3",
   "version": "3.7.6"
  }
 },
 "nbformat": 4,
 "nbformat_minor": 2
}
